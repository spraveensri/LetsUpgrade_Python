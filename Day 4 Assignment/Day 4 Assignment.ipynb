{
 "cells": [
  {
   "cell_type": "markdown",
   "metadata": {},
   "source": [
    "# Question 1"
   ]
  },
  {
   "cell_type": "code",
   "execution_count": 1,
   "metadata": {},
   "outputs": [
    {
     "name": "stdout",
     "output_type": "stream",
     "text": [
      "I Love LetsUpgrade \n"
     ]
    }
   ],
   "source": [
    "file = open(\"LetsUpgrade.txt\",'w')\n",
    "file.write(\"I Love LetsUpgrade \")\n",
    "file.close()\n",
    "\n",
    "file = open(\"LetsUpgrade.txt\",'r+')\n",
    "print(file.read())\n",
    "file.write(\"I Love to Learning Python\")\n",
    "file.close()"
   ]
  },
  {
   "cell_type": "markdown",
   "metadata": {},
   "source": [
    "# Question 2"
   ]
  },
  {
   "cell_type": "code",
   "execution_count": 2,
   "metadata": {},
   "outputs": [
    {
     "name": "stdout",
     "output_type": "stream",
     "text": [
      "Enter a Number : 18\n",
      "Factorial of  18  is  6402373705728000\n"
     ]
    }
   ],
   "source": [
    "def factorial(n): \n",
    "    if n == 0: \n",
    "        return 1\n",
    "    else:\n",
    "        return n * factorial(n-1) \n",
    "   \n",
    "number = int(input(\"Enter a Number : \"))\n",
    "a = factorial(number)\n",
    "print(\"Factorial of \",number,\" is \",int(a)) "
   ]
  },
  {
   "cell_type": "code",
   "execution_count": null,
   "metadata": {},
   "outputs": [],
   "source": []
  }
 ],
 "metadata": {
  "kernelspec": {
   "display_name": "Python 3",
   "language": "python",
   "name": "python3"
  },
  "language_info": {
   "codemirror_mode": {
    "name": "ipython",
    "version": 3
   },
   "file_extension": ".py",
   "mimetype": "text/x-python",
   "name": "python",
   "nbconvert_exporter": "python",
   "pygments_lexer": "ipython3",
   "version": "3.8.3"
  }
 },
 "nbformat": 4,
 "nbformat_minor": 4
}
